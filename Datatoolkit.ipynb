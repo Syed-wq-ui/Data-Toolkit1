{
  "nbformat": 4,
  "nbformat_minor": 0,
  "metadata": {
    "colab": {
      "provenance": []
    },
    "kernelspec": {
      "name": "python3",
      "display_name": "Python 3"
    },
    "language_info": {
      "name": "python"
    }
  },
  "cells": [
    {
      "cell_type": "markdown",
      "source": [
        "Practical"
      ],
      "metadata": {
        "id": "EvgyYSyFKmq-"
      }
    },
    {
      "cell_type": "code",
      "execution_count": null,
      "metadata": {
        "id": "bAuxrw7lKA8O"
      },
      "outputs": [],
      "source": [
        " #1.How do you create a 2D NumPy array and calculate the sum of each row)\n",
        " #2.Write a Pandas script to find the mean of a specific column in a DataFrameA\n",
        " #3.Create a scatter plot using MatplotlibA\n",
        " #4.How do you calculate the correlation matrix using Seaborn and visualize it with a heatmap)\n",
        " #5.Generate a bar plot using PlotlyA\n",
        " #6.Create a DataFrame and add a new column based on an existing columnA\n",
        " #7.Write a program to perform element-wise multiplication of two NumPy arraysA\n",
        " #8.Create a line plot with multiple lines using MatplotlibA\n",
        " #9.Generate a Pandas DataFrame and filter rows where a column value is greater than a thresholdA\n",
        " #10.Create a histogram using Seaborn to visualize a distributionA\n",
        " #11.Perform matrix multiplication using NumPyA\n",
        " #12.Use Pandas to load a CSV file and display its first 5 rowsA\n",
        " #13.Create a 3D scatter plot using Plotly"
      ]
    },
    {
      "cell_type": "code",
      "source": [
        "#create 2d numpy array\n",
        "import numpy as np\n",
        "arr=np.array([[1,2,3],\n",
        "              [4,5,6],\n",
        "              [7,8,9]])\n",
        "print(arr)\n",
        "print('-'*30)\n",
        "print(\"The dimension is: \",arr.ndim)"
      ],
      "metadata": {
        "colab": {
          "base_uri": "https://localhost:8080/"
        },
        "id": "8buhLA4gKr-Q",
        "outputId": "069880b8-84fb-429e-8afb-0db565f67062"
      },
      "execution_count": null,
      "outputs": [
        {
          "output_type": "stream",
          "name": "stdout",
          "text": [
            "[[1 2 3]\n",
            " [4 5 6]\n",
            " [7 8 9]]\n",
            "------------------------------\n",
            "The dimension is:  2\n"
          ]
        }
      ]
    },
    {
      "cell_type": "code",
      "source": [
        "#calc mean\n",
        "import pandas as pd\n",
        "import seaborn as sns\n",
        "sns.get_dataset_names()\n",
        "df = pd.DataFrame(sns.load_dataset('geyser'))\n",
        "print(df)\n",
        "print('-'*50)\n",
        "print(df['waiting'].mean())\n",
        "df.dtypes"
      ],
      "metadata": {
        "colab": {
          "base_uri": "https://localhost:8080/",
          "height": 461
        },
        "id": "mcyGc6YGL1C_",
        "outputId": "74a78fa2-d05b-402b-9229-7f0ce061d373"
      },
      "execution_count": null,
      "outputs": [
        {
          "output_type": "stream",
          "name": "stdout",
          "text": [
            "     duration  waiting   kind\n",
            "0       3.600       79   long\n",
            "1       1.800       54  short\n",
            "2       3.333       74   long\n",
            "3       2.283       62  short\n",
            "4       4.533       85   long\n",
            "..        ...      ...    ...\n",
            "267     4.117       81   long\n",
            "268     2.150       46  short\n",
            "269     4.417       90   long\n",
            "270     1.817       46  short\n",
            "271     4.467       74   long\n",
            "\n",
            "[272 rows x 3 columns]\n",
            "--------------------------------------------------\n",
            "70.8970588235294\n"
          ]
        },
        {
          "output_type": "execute_result",
          "data": {
            "text/plain": [
              "duration    float64\n",
              "waiting       int64\n",
              "kind         object\n",
              "dtype: object"
            ],
            "text/html": [
              "<div>\n",
              "<style scoped>\n",
              "    .dataframe tbody tr th:only-of-type {\n",
              "        vertical-align: middle;\n",
              "    }\n",
              "\n",
              "    .dataframe tbody tr th {\n",
              "        vertical-align: top;\n",
              "    }\n",
              "\n",
              "    .dataframe thead th {\n",
              "        text-align: right;\n",
              "    }\n",
              "</style>\n",
              "<table border=\"1\" class=\"dataframe\">\n",
              "  <thead>\n",
              "    <tr style=\"text-align: right;\">\n",
              "      <th></th>\n",
              "      <th>0</th>\n",
              "    </tr>\n",
              "  </thead>\n",
              "  <tbody>\n",
              "    <tr>\n",
              "      <th>duration</th>\n",
              "      <td>float64</td>\n",
              "    </tr>\n",
              "    <tr>\n",
              "      <th>waiting</th>\n",
              "      <td>int64</td>\n",
              "    </tr>\n",
              "    <tr>\n",
              "      <th>kind</th>\n",
              "      <td>object</td>\n",
              "    </tr>\n",
              "  </tbody>\n",
              "</table>\n",
              "</div><br><label><b>dtype:</b> object</label>"
            ]
          },
          "metadata": {},
          "execution_count": 15
        }
      ]
    },
    {
      "cell_type": "code",
      "source": [
        "#3 scatter plot\n",
        "import matplotlib.pyplot as plt\n",
        "plt.scatter(x='duration',y='waiting',data=df,c='g')\n",
        "plt.title('Scatter Plot')\n",
        "plt.xlabel('Duration')\n",
        "plt.ylabel('Waiting')\n",
        "plt.grid()\n",
        "plt.show()"
      ],
      "metadata": {
        "colab": {
          "base_uri": "https://localhost:8080/",
          "height": 472
        },
        "id": "DBta5AYSMitX",
        "outputId": "32747ad8-dbfb-4caf-bb73-e477464ec4d8"
      },
      "execution_count": null,
      "outputs": [
        {
          "output_type": "display_data",
          "data": {
            "text/plain": [
              "<Figure size 640x480 with 1 Axes>"
            ],
            "image/png": "[encoded data removed]"
          },
          "metadata": {}
        }
      ]
    },
    {
      "cell_type": "code",
      "source": [
        "#4calc the corr\n",
        "mat={'Maths':[25,30,15],\n",
        "     'Physics':[31,45,37],\n",
        "     'English':[27,28,29]}\n",
        "print(mat)\n",
        "print('-'*40)\n",
        "df1=pd.DataFrame(mat,index=['A','B','C'])\n",
        "print(df1)\n",
        "print('-'*40)\n",
        "import seaborn as sns\n",
        "print('The Correllation is : ')\n",
        "print(df1.corr())\n",
        "sns.heatmap(df1.corr(),cmap='coolwarm')\n",
        "plt.show()"
      ],
      "metadata": {
        "colab": {
          "base_uri": "https://localhost:8080/",
          "height": 647
        },
        "id": "12VAMyUvP_Ci",
        "outputId": "78e495ea-571f-4d85-a5b1-91e6e1261d38"
      },
      "execution_count": null,
      "outputs": [
        {
          "output_type": "stream",
          "name": "stdout",
          "text": [
            "{'Maths': [25, 30, 15], 'Physics': [31, 45, 37], 'English': [27, 28, 29]}\n",
            "----------------------------------------\n",
            "   Maths  Physics  English\n",
            "A     25       31       27\n",
            "B     30       45       28\n",
            "C     15       37       29\n",
            "----------------------------------------\n",
            "The Correllation is : \n",
            "            Maths   Physics   English\n",
            "Maths    1.000000  0.403890 -0.654654\n",
            "Physics  0.403890  1.000000  0.427121\n",
            "English -0.654654  0.427121  1.000000\n"
          ]
        },
        {
          "output_type": "display_data",
          "data": {
            "text/plain": [
              "<Figure size 640x480 with 2 Axes>"
            ],
            "image/png": "[encoded data removed]"
          },
          "metadata": {}
        }
      ]
    },
    {
      "cell_type": "code",
      "source": [
        "#5.Bar plot\n",
        "import plotly.graph_objects as go\n",
        "df1\n",
        "fig=go.Figure()\n",
        "fig.add_trace(go.Bar(x=df1.Maths,y=df1.Physics))"
      ],
      "metadata": {
        "colab": {
          "base_uri": "https://localhost:8080/",
          "height": 542
        },
        "id": "uAoyEHnNSIdO",
        "outputId": "3b3fb41a-85a2-4165-85a7-e159f0551770"
      },
      "execution_count": null,
      "outputs": [
        {
          "output_type": "display_data",
          "data": {
            "text/html": [
              "<html>\n",
              "<head><meta charset=\"utf-8\" /></head>\n",
              "<body>\n",
              "    <div>            <script src=\"https://cdnjs.cloudflare.com/ajax/libs/mathjax/2.7.5/MathJax.js?config=TeX-AMS-MML_SVG\"></script><script type=\"text/javascript\">if (window.MathJax && window.MathJax.Hub && window.MathJax.Hub.Config) {window.MathJax.Hub.Config({SVG: {font: \"STIX-Web\"}});}</script>                <script type=\"text/javascript\">window.PlotlyConfig = {MathJaxConfig: 'local'};</script>\n",
              "        <script charset=\"utf-8\" src=\"https://cdn.plot.ly/plotly-2.35.2.min.js\"></script>                <div id=\"7b336ad6-8480-46df-966f-00ae0743599a\" class=\"plotly-graph-div\" style=\"height:525px; width:100%;\"></div>            <script type=\"text/javascript\">                                    window.PLOTLYENV=window.PLOTLYENV || {};                                    if (document.getElementById(\"7b336ad6-8480-46df-966f-00ae0743599a\")) {                    Plotly.newPlot(                        \"7b336ad6-8480-46df-966f-00ae0743599a\",                        [{\"x\":[25,30,15],\"y\":[31,45,37],\"type\":\"bar\"}],                        {\"template\":{\"data\":{\"histogram2dcontour\":[{\"type\":\"histogram2dcontour\",\"colorbar\":{\"outlinewidth\":0,\"ticks\":\"\"},\"colorscale\":[[0.0,\"#0d0887\"],[0.1111111111111111,\"#46039f\"],[0.2222222222222222,\"#7201a8\"],[0.3333333333333333,\"#9c179e\"],[0.4444444444444444,\"#bd3786\"],[0.5555555555555556,\"#d8576b\"],[0.6666666666666666,\"#ed7953\"],[0.7777777777777778,\"#fb9f3a\"],[0.8888888888888888,\"#fdca26\"],[1.0,\"#f0f921\"]]}],\"choropleth\":[{\"type\":\"choropleth\",\"colorbar\":{\"outlinewidth\":0,\"ticks\":\"\"}}],\"histogram2d\":[{\"type\":\"histogram2d\",\"colorbar\":{\"outlinewidth\":0,\"ticks\":\"\"},\"colorscale\":[[0.0,\"#0d0887\"],[0.1111111111111111,\"#46039f\"],[0.2222222222222222,\"#7201a8\"],[0.3333333333333333,\"#9c179e\"],[0.4444444444444444,\"#bd3786\"],[0.5555555555555556,\"#d8576b\"],[0.6666666666666666,\"#ed7953\"],[0.7777777777777778,\"#fb9f3a\"],[0.8888888888888888,\"#fdca26\"],[1.0,\"#f0f921\"]]}],\"heatmap\":[{\"type\":\"heatmap\",\"colorbar\":{\"outlinewidth\":0,\"ticks\":\"\"},\"colorscale\":[[0.0,\"#0d0887\"],[0.1111111111111111,\"#46039f\"],[0.2222222222222222,\"#7201a8\"],[0.3333333333333333,\"#9c179e\"],[0.4444444444444444,\"#bd3786\"],[0.5555555555555556,\"#d8576b\"],[0.6666666666666666,\"#ed7953\"],[0.7777777777777778,\"#fb9f3a\"],[0.8888888888888888,\"#fdca26\"],[1.0,\"#f0f921\"]]}],\"heatmapgl\":[{\"type\":\"heatmapgl\",\"colorbar\":{\"outlinewidth\":0,\"ticks\":\"\"},\"colorscale\":[[0.0,\"#0d0887\"],[0.1111111111111111,\"#46039f\"],[0.2222222222222222,\"#7201a8\"],[0.3333333333333333,\"#9c179e\"],[0.4444444444444444,\"#bd3786\"],[0.5555555555555556,\"#d8576b\"],[0.6666666666666666,\"#ed7953\"],[0.7777777777777778,\"#fb9f3a\"],[0.8888888888888888,\"#fdca26\"],[1.0,\"#f0f921\"]]}],\"contourcarpet\":[{\"type\":\"contourcarpet\",\"colorbar\":{\"outlinewidth\":0,\"ticks\":\"\"}}],\"contour\":[{\"type\":\"contour\",\"colorbar\":{\"outlinewidth\":0,\"ticks\":\"\"},\"colorscale\":[[0.0,\"#0d0887\"],[0.1111111111111111,\"#46039f\"],[0.2222222222222222,\"#7201a8\"],[0.3333333333333333,\"#9c179e\"],[0.4444444444444444,\"#bd3786\"],[0.5555555555555556,\"#d8576b\"],[0.6666666666666666,\"#ed7953\"],[0.7777777777777778,\"#fb9f3a\"],[0.8888888888888888,\"#fdca26\"],[1.0,\"#f0f921\"]]}],\"surface\":[{\"type\":\"surface\",\"colorbar\":{\"outlinewidth\":0,\"ticks\":\"\"},\"colorscale\":[[0.0,\"#0d0887\"],[0.1111111111111111,\"#46039f\"],[0.2222222222222222,\"#7201a8\"],[0.3333333333333333,\"#9c179e\"],[0.4444444444444444,\"#bd3786\"],[0.5555555555555556,\"#d8576b\"],[0.6666666666666666,\"#ed7953\"],[0.7777777777777778,\"#fb9f3a\"],[0.8888888888888888,\"#fdca26\"],[1.0,\"#f0f921\"]]}],\"mesh3d\":[{\"type\":\"mesh3d\",\"colorbar\":{\"outlinewidth\":0,\"ticks\":\"\"}}],\"scatter\":[{\"fillpattern\":{\"fillmode\":\"overlay\",\"size\":10,\"solidity\":0.2},\"type\":\"scatter\"}],\"parcoords\":[{\"type\":\"parcoords\",\"line\":{\"colorbar\":{\"outlinewidth\":0,\"ticks\":\"\"}}}],\"scatterpolargl\":[{\"type\":\"scatterpolargl\",\"marker\":{\"colorbar\":{\"outlinewidth\":0,\"ticks\":\"\"}}}],\"bar\":[{\"error_x\":{\"color\":\"#2a3f5f\"},\"error_y\":{\"color\":\"#2a3f5f\"},\"marker\":{\"line\":{\"color\":\"#E5ECF6\",\"width\":0.5},\"pattern\":{\"fillmode\":\"overlay\",\"size\":10,\"solidity\":0.2}},\"type\":\"bar\"}],\"scattergeo\":[{\"type\":\"scattergeo\",\"marker\":{\"colorbar\":{\"outlinewidth\":0,\"ticks\":\"\"}}}],\"scatterpolar\":[{\"type\":\"scatterpolar\",\"marker\":{\"colorbar\":{\"outlinewidth\":0,\"ticks\":\"\"}}}],\"histogram\":[{\"marker\":{\"pattern\":{\"fillmode\":\"overlay\",\"size\":10,\"solidity\":0.2}},\"type\":\"histogram\"}],\"scattergl\":[{\"type\":\"scattergl\",\"marker\":{\"colorbar\":{\"outlinewidth\":0,\"ticks\":\"\"}}}],\"scatter3d\":[{\"type\":\"scatter3d\",\"line\":{\"colorbar\":{\"outlinewidth\":0,\"ticks\":\"\"}},\"marker\":{\"colorbar\":{\"outlinewidth\":0,\"ticks\":\"\"}}}],\"scattermapbox\":[{\"type\":\"scattermapbox\",\"marker\":{\"colorbar\":{\"outlinewidth\":0,\"ticks\":\"\"}}}],\"scatterternary\":[{\"type\":\"scatterternary\",\"marker\":{\"colorbar\":{\"outlinewidth\":0,\"ticks\":\"\"}}}],\"scattercarpet\":[{\"type\":\"scattercarpet\",\"marker\":{\"colorbar\":{\"outlinewidth\":0,\"ticks\":\"\"}}}],\"carpet\":[{\"aaxis\":{\"endlinecolor\":\"#2a3f5f\",\"gridcolor\":\"white\",\"linecolor\":\"white\",\"minorgridcolor\":\"white\",\"startlinecolor\":\"#2a3f5f\"},\"baxis\":{\"endlinecolor\":\"#2a3f5f\",\"gridcolor\":\"white\",\"linecolor\":\"white\",\"minorgridcolor\":\"white\",\"startlinecolor\":\"#2a3f5f\"},\"type\":\"carpet\"}],\"table\":[{\"cells\":{\"fill\":{\"color\":\"#EBF0F8\"},\"line\":{\"color\":\"white\"}},\"header\":{\"fill\":{\"color\":\"#C8D4E3\"},\"line\":{\"color\":\"white\"}},\"type\":\"table\"}],\"barpolar\":[{\"marker\":{\"line\":{\"color\":\"#E5ECF6\",\"width\":0.5},\"pattern\":{\"fillmode\":\"overlay\",\"size\":10,\"solidity\":0.2}},\"type\":\"barpolar\"}],\"pie\":[{\"automargin\":true,\"type\":\"pie\"}]},\"layout\":{\"autotypenumbers\":\"strict\",\"colorway\":[\"#636efa\",\"#EF553B\",\"#00cc96\",\"#ab63fa\",\"#FFA15A\",\"#19d3f3\",\"#FF6692\",\"#B6E880\",\"#FF97FF\",\"#FECB52\"],\"font\":{\"color\":\"#2a3f5f\"},\"hovermode\":\"closest\",\"hoverlabel\":{\"align\":\"left\"},\"paper_bgcolor\":\"white\",\"plot_bgcolor\":\"#E5ECF6\",\"polar\":{\"bgcolor\":\"#E5ECF6\",\"angularaxis\":{\"gridcolor\":\"white\",\"linecolor\":\"white\",\"ticks\":\"\"},\"radialaxis\":{\"gridcolor\":\"white\",\"linecolor\":\"white\",\"ticks\":\"\"}},\"ternary\":{\"bgcolor\":\"#E5ECF6\",\"aaxis\":{\"gridcolor\":\"white\",\"linecolor\":\"white\",\"ticks\":\"\"},\"baxis\":{\"gridcolor\":\"white\",\"linecolor\":\"white\",\"ticks\":\"\"},\"caxis\":{\"gridcolor\":\"white\",\"linecolor\":\"white\",\"ticks\":\"\"}},\"coloraxis\":{\"colorbar\":{\"outlinewidth\":0,\"ticks\":\"\"}},\"colorscale\":{\"sequential\":[[0.0,\"#0d0887\"],[0.1111111111111111,\"#46039f\"],[0.2222222222222222,\"#7201a8\"],[0.3333333333333333,\"#9c179e\"],[0.4444444444444444,\"#bd3786\"],[0.5555555555555556,\"#d8576b\"],[0.6666666666666666,\"#ed7953\"],[0.7777777777777778,\"#fb9f3a\"],[0.8888888888888888,\"#fdca26\"],[1.0,\"#f0f921\"]],\"sequentialminus\":[[0.0,\"#0d0887\"],[0.1111111111111111,\"#46039f\"],[0.2222222222222222,\"#7201a8\"],[0.3333333333333333,\"#9c179e\"],[0.4444444444444444,\"#bd3786\"],[0.5555555555555556,\"#d8576b\"],[0.6666666666666666,\"#ed7953\"],[0.7777777777777778,\"#fb9f3a\"],[0.8888888888888888,\"#fdca26\"],[1.0,\"#f0f921\"]],\"diverging\":[[0,\"#8e0152\"],[0.1,\"#c51b7d\"],[0.2,\"#de77ae\"],[0.3,\"#f1b6da\"],[0.4,\"#fde0ef\"],[0.5,\"#f7f7f7\"],[0.6,\"#e6f5d0\"],[0.7,\"#b8e186\"],[0.8,\"#7fbc41\"],[0.9,\"#4d9221\"],[1,\"#276419\"]]},\"xaxis\":{\"gridcolor\":\"white\",\"linecolor\":\"white\",\"ticks\":\"\",\"title\":{\"standoff\":15},\"zerolinecolor\":\"white\",\"automargin\":true,\"zerolinewidth\":2},\"yaxis\":{\"gridcolor\":\"white\",\"linecolor\":\"white\",\"ticks\":\"\",\"title\":{\"standoff\":15},\"zerolinecolor\":\"white\",\"automargin\":true,\"zerolinewidth\":2},\"scene\":{\"xaxis\":{\"backgroundcolor\":\"#E5ECF6\",\"gridcolor\":\"white\",\"linecolor\":\"white\",\"showbackground\":true,\"ticks\":\"\",\"zerolinecolor\":\"white\",\"gridwidth\":2},\"yaxis\":{\"backgroundcolor\":\"#E5ECF6\",\"gridcolor\":\"white\",\"linecolor\":\"white\",\"showbackground\":true,\"ticks\":\"\",\"zerolinecolor\":\"white\",\"gridwidth\":2},\"zaxis\":{\"backgroundcolor\":\"#E5ECF6\",\"gridcolor\":\"white\",\"linecolor\":\"white\",\"showbackground\":true,\"ticks\":\"\",\"zerolinecolor\":\"white\",\"gridwidth\":2}},\"shapedefaults\":{\"line\":{\"color\":\"#2a3f5f\"}},\"annotationdefaults\":{\"arrowcolor\":\"#2a3f5f\",\"arrowhead\":0,\"arrowwidth\":1},\"geo\":{\"bgcolor\":\"white\",\"landcolor\":\"#E5ECF6\",\"subunitcolor\":\"white\",\"showland\":true,\"showlakes\":true,\"lakecolor\":\"white\"},\"title\":{\"x\":0.05},\"mapbox\":{\"style\":\"light\"}}}},                        {\"responsive\": true}                    ).then(function(){\n",
              "                            \n",
              "var gd = document.getElementById('7b336ad6-8480-46df-966f-00ae0743599a');\n",
              "var x = new MutationObserver(function (mutations, observer) {{\n",
              "        var display = window.getComputedStyle(gd).display;\n",
              "        if (!display || display === 'none') {{\n",
              "            console.log([gd, 'removed!']);\n",
              "            Plotly.purge(gd);\n",
              "            observer.disconnect();\n",
              "        }}\n",
              "}});\n",
              "\n",
              "// Listen for the removal of the full notebook cells\n",
              "var notebookContainer = gd.closest('#notebook-container');\n",
              "if (notebookContainer) {{\n",
              "    x.observe(notebookContainer, {childList: true});\n",
              "}}\n",
              "\n",
              "// Listen for the clearing of the current output cell\n",
              "var outputEl = gd.closest('.output');\n",
              "if (outputEl) {{\n",
              "    x.observe(outputEl, {childList: true});\n",
              "}}\n",
              "\n",
              "                        })                };                            </script>        </div>\n",
              "</body>\n",
              "</html>"
            ]
          },
          "metadata": {}
        }
      ]
    },
    {
      "cell_type": "code",
      "source": [
        "#6>>Data frame\n",
        "marks={'Sub1':[25,45,32],'Sub2':[21,12,34]}\n",
        "df = pd.DataFrame(marks,index=['a','b','c'])\n",
        "print(df)\n",
        "print('-'*50)\n",
        "df['total marks']=df['Sub1']+df['Sub2']\n",
        "print(df)"
      ],
      "metadata": {
        "colab": {
          "base_uri": "https://localhost:8080/"
        },
        "id": "roEnuC1tWQ9y",
        "outputId": "74db6491-5c81-41c4-ccac-7a66e7938939"
      },
      "execution_count": null,
      "outputs": [
        {
          "output_type": "stream",
          "name": "stdout",
          "text": [
            "   Sub1  Sub2\n",
            "a    25    21\n",
            "b    45    12\n",
            "c    32    34\n",
            "--------------------------------------------------\n",
            "   Sub1  Sub2  total marks\n",
            "a    25    21           46\n",
            "b    45    12           57\n",
            "c    32    34           66\n"
          ]
        }
      ]
    },
    {
      "cell_type": "code",
      "source": [
        "#7th\n",
        "arr1 = np.array([1,2,3])\n",
        "arr2 = np.array([2,3,4])\n",
        "arr1*arr2"
      ],
      "metadata": {
        "colab": {
          "base_uri": "https://localhost:8080/"
        },
        "id": "ced9y9Mwa82E",
        "outputId": "cf33c42e-52ab-450d-ec1d-c3a58d09a3c2"
      },
      "execution_count": null,
      "outputs": [
        {
          "output_type": "execute_result",
          "data": {
            "text/plain": [
              "array([ 2,  6, 12])"
            ]
          },
          "metadata": {},
          "execution_count": 48
        }
      ]
    },
    {
      "cell_type": "code",
      "source": [
        "#8th\n",
        "import matplotlib.pyplot as plt\n",
        "x = [1, 2, 3, 4, 5]\n",
        "y1 = [2, 3, 5, 7, 11]\n",
        "y2 = [1, 4, 6, 8, 10]\n",
        "y3 = [2, 2, 2, 2, 2]\n",
        "plt.plot(x, y1, label='Tata Motors', color='blue', marker='o')\n",
        "plt.plot(x, y2, label='Tata Steel', color='green', linestyle='--')\n",
        "plt.plot(x, y3, label='Tata Power', color='red')\n",
        "plt.xlabel('X-axis')\n",
        "plt.ylabel('Y-axis')\n",
        "plt.title('Multiple Line Plot')\n",
        "plt.grid()\n",
        "plt.legend()\n",
        "plt.show()\n"
      ],
      "metadata": {
        "colab": {
          "base_uri": "https://localhost:8080/",
          "height": 472
        },
        "id": "lF3Qlt0Kb1E9",
        "outputId": "dd45349b-8a1e-41cf-fe67-b61a5af345e2"
      },
      "execution_count": null,
      "outputs": [
        {
          "output_type": "display_data",
          "data": {
            "text/plain": [
              "<Figure size 640x480 with 1 Axes>"
            ],
            "image/png": "[encoded data removed]"
          },
          "metadata": {}
        }
      ]
    },
    {
      "cell_type": "code",
      "source": [
        "#9\n",
        "import pandas as pd\n",
        "data = {\n",
        "    'Name': ['Amit', 'Neha', 'Ravi', 'Simran', 'John'],\n",
        "    'Marks': [45, 82, 67, 90, 38]\n",
        "}\n",
        "df = pd.DataFrame(data)\n",
        "threshold = 60\n",
        "filtered_df = df[df['Marks'] > threshold]\n",
        "print( filtered_df)\n"
      ],
      "metadata": {
        "colab": {
          "base_uri": "https://localhost:8080/"
        },
        "id": "Es1GBTKAdayi",
        "outputId": "24ee9bea-8da5-4c1d-9602-90378a1ed0e2"
      },
      "execution_count": null,
      "outputs": [
        {
          "output_type": "stream",
          "name": "stdout",
          "text": [
            "     Name  Marks\n",
            "1    Neha     82\n",
            "2    Ravi     67\n",
            "3  Simran     90\n"
          ]
        }
      ]
    },
    {
      "cell_type": "code",
      "source": [
        "#10\n",
        "import seaborn as sns\n",
        "import matplotlib.pyplot as plt\n",
        "import numpy as np\n",
        "data = np.random.normal(loc=50, scale=10, size=1000)  # Normal distribution\n",
        "sns.histplot(data, bins=30, color='skyblue')\n",
        "plt.title(\"Distribution of Data\")\n",
        "plt.xlabel(\"Value\")\n",
        "plt.ylabel(\"Frequency\")\n",
        "plt.show()\n"
      ],
      "metadata": {
        "colab": {
          "base_uri": "https://localhost:8080/",
          "height": 472
        },
        "id": "1wYabZjvd3KB",
        "outputId": "e9b567d2-7b59-494a-c548-b99450aba8a4"
      },
      "execution_count": null,
      "outputs": [
        {
          "output_type": "display_data",
          "data": {
            "text/plain": [
              "<Figure size 640x480 with 1 Axes>"
            ],
            "image/png": "[encoded data removed]"
          },
          "metadata": {}
        }
      ]
    },
    {
      "cell_type": "code",
      "source": [
        "#11\n",
        "import numpy as np\n",
        "A = np.array([[1, 2],\n",
        "              [3, 4]])\n",
        "\n",
        "B = np.array([[5, 6],\n",
        "              [7, 8]])\n",
        "result = A @ B\n",
        "print(result)"
      ],
      "metadata": {
        "id": "64m1OguBee8L",
        "colab": {
          "base_uri": "https://localhost:8080/"
        },
        "outputId": "3044c005-79a4-4998-e762-7d5ee84b15e3"
      },
      "execution_count": 1,
      "outputs": [
        {
          "output_type": "stream",
          "name": "stdout",
          "text": [
            "[[19 22]\n",
            " [43 50]]\n"
          ]
        }
      ]
    },
    {
      "cell_type": "code",
      "source": [
        "#12\n",
        "import pandas as pd\n",
        "df=pd.read_csv('services.csv')\n",
        "df.head(5)"
      ],
      "metadata": {
        "colab": {
          "base_uri": "https://localhost:8080/",
          "height": 672
        },
        "id": "kaoX2lyQDtQ0",
        "outputId": "6e4d9d60-3c61-482d-c01c-378b717cc4b5"
      },
      "execution_count": 7,
      "outputs": [
        {
          "output_type": "execute_result",
          "data": {
            "text/plain": [
              "   id  location_id  program_id accepted_payments alternate_name  \\\n",
              "0   1            1         NaN               NaN            NaN   \n",
              "1   2            2         NaN               NaN            NaN   \n",
              "2   3            3         NaN               NaN            NaN   \n",
              "3   4            4         NaN               NaN            NaN   \n",
              "4   5            5         NaN               NaN            NaN   \n",
              "\n",
              "                           application_process  \\\n",
              "0                   Walk in or apply by phone.   \n",
              "1           Apply by phone for an appointment.   \n",
              "2  Phone for information (403-4300 Ext. 4322).   \n",
              "3                              Apply by phone.   \n",
              "4                       Phone for information.   \n",
              "\n",
              "                                            audience  \\\n",
              "0  Older adults age 55 or over, ethnic minorities...   \n",
              "1       Residents of San Mateo County age 55 or over   \n",
              "2  Older adults age 55 or over who can benefit fr...   \n",
              "3  Parents, children, families with problems of c...   \n",
              "4  Low-income working families with children tran...   \n",
              "\n",
              "                                         description  \\\n",
              "0  A walk-in center for older adults that provide...   \n",
              "1  Provides training and job placement to eligibl...   \n",
              "2  Offers supportive counseling services to San M...   \n",
              "3  Provides supervised visitation services and a ...   \n",
              "4  Provides fixed 8% short term loans to eligible...   \n",
              "\n",
              "                                         eligibility email  ...  \\\n",
              "0  Age 55 or over for most programs, age 60 or ov...   NaN  ...   \n",
              "1  Age 55 or over, county resident and willing an...   NaN  ...   \n",
              "2        Resident of San Mateo County age 55 or over   NaN  ...   \n",
              "3                                                NaN   NaN  ...   \n",
              "4  Eligibility: Low-income family with legal cust...   NaN  ...   \n",
              "\n",
              "  interpretation_services                                           keywords  \\\n",
              "0                     NaN  ADULT PROTECTION AND CARE SERVICES, Meal Sites...   \n",
              "1                     NaN  EMPLOYMENT/TRAINING SERVICES, Job Development,...   \n",
              "2                     NaN  Geriatric Counseling, Older Adults, Gay, Lesbi...   \n",
              "3                     NaN  INDIVIDUAL AND FAMILY DEVELOPMENT SERVICES, Gr...   \n",
              "4                     NaN     COMMUNITY SERVICES, Speakers, Automobile Loans   \n",
              "\n",
              "  languages                               name required_documents  \\\n",
              "0       NaN    Fair Oaks Adult Activity Center                NaN   \n",
              "1       NaN   Second Career Employment Program                NaN   \n",
              "2       NaN             Senior Peer Counseling                NaN   \n",
              "3       NaN           Family Visitation Center                NaN   \n",
              "4       NaN  Economic Self-Sufficiency Program                NaN   \n",
              "\n",
              "      service_areas  status wait_time website taxonomy_ids  \n",
              "0             Colma  active  No wait.     NaN          NaN  \n",
              "1  San Mateo County  active   Varies.     NaN          NaN  \n",
              "2  San Mateo County  active   Varies.     NaN          NaN  \n",
              "3  San Mateo County  active  No wait.     NaN          NaN  \n",
              "4  San Mateo County  active       NaN     NaN          NaN  \n",
              "\n",
              "[5 rows x 22 columns]"
            ],
            "text/html": [
              "\n",
              "  <div id=\"df-349a5571-c736-4ea6-974d-2fae56a5cac9\" class=\"colab-df-container\">\n",
              "    <div>\n",
              "<style scoped>\n",
              "    .dataframe tbody tr th:only-of-type {\n",
              "        vertical-align: middle;\n",
              "    }\n",
              "\n",
              "    .dataframe tbody tr th {\n",
              "        vertical-align: top;\n",
              "    }\n",
              "\n",
              "    .dataframe thead th {\n",
              "        text-align: right;\n",
              "    }\n",
              "</style>\n",
              "<table border=\"1\" class=\"dataframe\">\n",
              "  <thead>\n",
              "    <tr style=\"text-align: right;\">\n",
              "      <th></th>\n",
              "      <th>id</th>\n",
              "      <th>location_id</th>\n",
              "      <th>program_id</th>\n",
              "      <th>accepted_payments</th>\n",
              "      <th>alternate_name</th>\n",
              "      <th>application_process</th>\n",
              "      <th>audience</th>\n",
              "      <th>description</th>\n",
              "      <th>eligibility</th>\n",
              "      <th>email</th>\n",
              "      <th>...</th>\n",
              "      <th>interpretation_services</th>\n",
              "      <th>keywords</th>\n",
              "      <th>languages</th>\n",
              "      <th>name</th>\n",
              "      <th>required_documents</th>\n",
              "      <th>service_areas</th>\n",
              "      <th>status</th>\n",
              "      <th>wait_time</th>\n",
              "      <th>website</th>\n",
              "      <th>taxonomy_ids</th>\n",
              "    </tr>\n",
              "  </thead>\n",
              "  <tbody>\n",
              "    <tr>\n",
              "      <th>0</th>\n",
              "      <td>1</td>\n",
              "      <td>1</td>\n",
              "      <td>NaN</td>\n",
              "      <td>NaN</td>\n",
              "      <td>NaN</td>\n",
              "      <td>Walk in or apply by phone.</td>\n",
              "      <td>Older adults age 55 or over, ethnic minorities...</td>\n",
              "      <td>A walk-in center for older adults that provide...</td>\n",
              "      <td>Age 55 or over for most programs, age 60 or ov...</td>\n",
              "      <td>NaN</td>\n",
              "      <td>...</td>\n",
              "      <td>NaN</td>\n",
              "      <td>ADULT PROTECTION AND CARE SERVICES, Meal Sites...</td>\n",
              "      <td>NaN</td>\n",
              "      <td>Fair Oaks Adult Activity Center</td>\n",
              "      <td>NaN</td>\n",
              "      <td>Colma</td>\n",
              "      <td>active</td>\n",
              "      <td>No wait.</td>\n",
              "      <td>NaN</td>\n",
              "      <td>NaN</td>\n",
              "    </tr>\n",
              "    <tr>\n",
              "      <th>1</th>\n",
              "      <td>2</td>\n",
              "      <td>2</td>\n",
              "      <td>NaN</td>\n",
              "      <td>NaN</td>\n",
              "      <td>NaN</td>\n",
              "      <td>Apply by phone for an appointment.</td>\n",
              "      <td>Residents of San Mateo County age 55 or over</td>\n",
              "      <td>Provides training and job placement to eligibl...</td>\n",
              "      <td>Age 55 or over, county resident and willing an...</td>\n",
              "      <td>NaN</td>\n",
              "      <td>...</td>\n",
              "      <td>NaN</td>\n",
              "      <td>EMPLOYMENT/TRAINING SERVICES, Job Development,...</td>\n",
              "      <td>NaN</td>\n",
              "      <td>Second Career Employment Program</td>\n",
              "      <td>NaN</td>\n",
              "      <td>San Mateo County</td>\n",
              "      <td>active</td>\n",
              "      <td>Varies.</td>\n",
              "      <td>NaN</td>\n",
              "      <td>NaN</td>\n",
              "    </tr>\n",
              "    <tr>\n",
              "      <th>2</th>\n",
              "      <td>3</td>\n",
              "      <td>3</td>\n",
              "      <td>NaN</td>\n",
              "      <td>NaN</td>\n",
              "      <td>NaN</td>\n",
              "      <td>Phone for information (403-4300 Ext. 4322).</td>\n",
              "      <td>Older adults age 55 or over who can benefit fr...</td>\n",
              "      <td>Offers supportive counseling services to San M...</td>\n",
              "      <td>Resident of San Mateo County age 55 or over</td>\n",
              "      <td>NaN</td>\n",
              "      <td>...</td>\n",
              "      <td>NaN</td>\n",
              "      <td>Geriatric Counseling, Older Adults, Gay, Lesbi...</td>\n",
              "      <td>NaN</td>\n",
              "      <td>Senior Peer Counseling</td>\n",
              "      <td>NaN</td>\n",
              "      <td>San Mateo County</td>\n",
              "      <td>active</td>\n",
              "      <td>Varies.</td>\n",
              "      <td>NaN</td>\n",
              "      <td>NaN</td>\n",
              "    </tr>\n",
              "    <tr>\n",
              "      <th>3</th>\n",
              "      <td>4</td>\n",
              "      <td>4</td>\n",
              "      <td>NaN</td>\n",
              "      <td>NaN</td>\n",
              "      <td>NaN</td>\n",
              "      <td>Apply by phone.</td>\n",
              "      <td>Parents, children, families with problems of c...</td>\n",
              "      <td>Provides supervised visitation services and a ...</td>\n",
              "      <td>NaN</td>\n",
              "      <td>NaN</td>\n",
              "      <td>...</td>\n",
              "      <td>NaN</td>\n",
              "      <td>INDIVIDUAL AND FAMILY DEVELOPMENT SERVICES, Gr...</td>\n",
              "      <td>NaN</td>\n",
              "      <td>Family Visitation Center</td>\n",
              "      <td>NaN</td>\n",
              "      <td>San Mateo County</td>\n",
              "      <td>active</td>\n",
              "      <td>No wait.</td>\n",
              "      <td>NaN</td>\n",
              "      <td>NaN</td>\n",
              "    </tr>\n",
              "    <tr>\n",
              "      <th>4</th>\n",
              "      <td>5</td>\n",
              "      <td>5</td>\n",
              "      <td>NaN</td>\n",
              "      <td>NaN</td>\n",
              "      <td>NaN</td>\n",
              "      <td>Phone for information.</td>\n",
              "      <td>Low-income working families with children tran...</td>\n",
              "      <td>Provides fixed 8% short term loans to eligible...</td>\n",
              "      <td>Eligibility: Low-income family with legal cust...</td>\n",
              "      <td>NaN</td>\n",
              "      <td>...</td>\n",
              "      <td>NaN</td>\n",
              "      <td>COMMUNITY SERVICES, Speakers, Automobile Loans</td>\n",
              "      <td>NaN</td>\n",
              "      <td>Economic Self-Sufficiency Program</td>\n",
              "      <td>NaN</td>\n",
              "      <td>San Mateo County</td>\n",
              "      <td>active</td>\n",
              "      <td>NaN</td>\n",
              "      <td>NaN</td>\n",
              "      <td>NaN</td>\n",
              "    </tr>\n",
              "  </tbody>\n",
              "</table>\n",
              "<p>5 rows × 22 columns</p>\n",
              "</div>\n",
              "    <div class=\"colab-df-buttons\">\n",
              "\n",
              "  <div class=\"colab-df-container\">\n",
              "    <button class=\"colab-df-convert\" onclick=\"convertToInteractive('df-349a5571-c736-4ea6-974d-2fae56a5cac9')\"\n",
              "            title=\"Convert this dataframe to an interactive table.\"\n",
              "            style=\"display:none;\">\n",
              "\n",
              "  <svg xmlns=\"http://www.w3.org/2000/svg\" height=\"24px\" viewBox=\"0 -960 960 960\">\n",
              "    <path d=\"M120-120v-720h720v720H120Zm60-500h600v-160H180v160Zm220 220h160v-160H400v160Zm0 220h160v-160H400v160ZM180-400h160v-160H180v160Zm440 0h160v-160H620v160ZM180-180h160v-160H180v160Zm440 0h160v-160H620v160Z\"/>\n",
              "  </svg>\n",
              "    </button>\n",
              "\n",
              "  <style>\n",
              "    .colab-df-container {\n",
              "      display:flex;\n",
              "      gap: 12px;\n",
              "    }\n",
              "\n",
              "    .colab-df-convert {\n",
              "      background-color: #E8F0FE;\n",
              "      border: none;\n",
              "      border-radius: 50%;\n",
              "      cursor: pointer;\n",
              "      display: none;\n",
              "      fill: #1967D2;\n",
              "      height: 32px;\n",
              "      padding: 0 0 0 0;\n",
              "      width: 32px;\n",
              "    }\n",
              "\n",
              "    .colab-df-convert:hover {\n",
              "      background-color: #E2EBFA;\n",
              "      box-shadow: 0px 1px 2px rgba(60, 64, 67, 0.3), 0px 1px 3px 1px rgba(60, 64, 67, 0.15);\n",
              "      fill: #174EA6;\n",
              "    }\n",
              "\n",
              "    .colab-df-buttons div {\n",
              "      margin-bottom: 4px;\n",
              "    }\n",
              "\n",
              "    [theme=dark] .colab-df-convert {\n",
              "      background-color: #3B4455;\n",
              "      fill: #D2E3FC;\n",
              "    }\n",
              "\n",
              "    [theme=dark] .colab-df-convert:hover {\n",
              "      background-color: #434B5C;\n",
              "      box-shadow: 0px 1px 3px 1px rgba(0, 0, 0, 0.15);\n",
              "      filter: drop-shadow(0px 1px 2px rgba(0, 0, 0, 0.3));\n",
              "      fill: #FFFFFF;\n",
              "    }\n",
              "  </style>\n",
              "\n",
              "    <script>\n",
              "      const buttonEl =\n",
              "        document.querySelector('#df-349a5571-c736-4ea6-974d-2fae56a5cac9 button.colab-df-convert');\n",
              "      buttonEl.style.display =\n",
              "        google.colab.kernel.accessAllowed ? 'block' : 'none';\n",
              "\n",
              "      async function convertToInteractive(key) {\n",
              "        const element = document.querySelector('#df-349a5571-c736-4ea6-974d-2fae56a5cac9');\n",
              "        const dataTable =\n",
              "          await google.colab.kernel.invokeFunction('convertToInteractive',\n",
              "                                                    [key], {});\n",
              "        if (!dataTable) return;\n",
              "\n",
              "        const docLinkHtml = 'Like what you see? Visit the ' +\n",
              "          '<a target=\"_blank\" href=https://colab.research.google.com/notebooks/data_table.ipynb>data table notebook</a>'\n",
              "          + ' to learn more about interactive tables.';\n",
              "        element.innerHTML = '';\n",
              "        dataTable['output_type'] = 'display_data';\n",
              "        await google.colab.output.renderOutput(dataTable, element);\n",
              "        const docLink = document.createElement('div');\n",
              "        docLink.innerHTML = docLinkHtml;\n",
              "        element.appendChild(docLink);\n",
              "      }\n",
              "    </script>\n",
              "  </div>\n",
              "\n",
              "\n",
              "    <div id=\"df-adbda4b8-3c81-4e54-9837-b3f19f87db91\">\n",
              "      <button class=\"colab-df-quickchart\" onclick=\"quickchart('df-adbda4b8-3c81-4e54-9837-b3f19f87db91')\"\n",
              "                title=\"Suggest charts\"\n",
              "                style=\"display:none;\">\n",
              "\n",
              "<svg xmlns=\"http://www.w3.org/2000/svg\" height=\"24px\"viewBox=\"0 0 24 24\"\n",
              "     width=\"24px\">\n",
              "    <g>\n",
              "        <path d=\"M19 3H5c-1.1 0-2 .9-2 2v14c0 1.1.9 2 2 2h14c1.1 0 2-.9 2-2V5c0-1.1-.9-2-2-2zM9 17H7v-7h2v7zm4 0h-2V7h2v10zm4 0h-2v-4h2v4z\"/>\n",
              "    </g>\n",
              "</svg>\n",
              "      </button>\n",
              "\n",
              "<style>\n",
              "  .colab-df-quickchart {\n",
              "      --bg-color: #E8F0FE;\n",
              "      --fill-color: #1967D2;\n",
              "      --hover-bg-color: #E2EBFA;\n",
              "      --hover-fill-color: #174EA6;\n",
              "      --disabled-fill-color: #AAA;\n",
              "      --disabled-bg-color: #DDD;\n",
              "  }\n",
              "\n",
              "  [theme=dark] .colab-df-quickchart {\n",
              "      --bg-color: #3B4455;\n",
              "      --fill-color: #D2E3FC;\n",
              "      --hover-bg-color: #434B5C;\n",
              "      --hover-fill-color: #FFFFFF;\n",
              "      --disabled-bg-color: #3B4455;\n",
              "      --disabled-fill-color: #666;\n",
              "  }\n",
              "\n",
              "  .colab-df-quickchart {\n",
              "    background-color: var(--bg-color);\n",
              "    border: none;\n",
              "    border-radius: 50%;\n",
              "    cursor: pointer;\n",
              "    display: none;\n",
              "    fill: var(--fill-color);\n",
              "    height: 32px;\n",
              "    padding: 0;\n",
              "    width: 32px;\n",
              "  }\n",
              "\n",
              "  .colab-df-quickchart:hover {\n",
              "    background-color: var(--hover-bg-color);\n",
              "    box-shadow: 0 1px 2px rgba(60, 64, 67, 0.3), 0 1px 3px 1px rgba(60, 64, 67, 0.15);\n",
              "    fill: var(--button-hover-fill-color);\n",
              "  }\n",
              "\n",
              "  .colab-df-quickchart-complete:disabled,\n",
              "  .colab-df-quickchart-complete:disabled:hover {\n",
              "    background-color: var(--disabled-bg-color);\n",
              "    fill: var(--disabled-fill-color);\n",
              "    box-shadow: none;\n",
              "  }\n",
              "\n",
              "  .colab-df-spinner {\n",
              "    border: 2px solid var(--fill-color);\n",
              "    border-color: transparent;\n",
              "    border-bottom-color: var(--fill-color);\n",
              "    animation:\n",
              "      spin 1s steps(1) infinite;\n",
              "  }\n",
              "\n",
              "  @keyframes spin {\n",
              "    0% {\n",
              "      border-color: transparent;\n",
              "      border-bottom-color: var(--fill-color);\n",
              "      border-left-color: var(--fill-color);\n",
              "    }\n",
              "    20% {\n",
              "      border-color: transparent;\n",
              "      border-left-color: var(--fill-color);\n",
              "      border-top-color: var(--fill-color);\n",
              "    }\n",
              "    30% {\n",
              "      border-color: transparent;\n",
              "      border-left-color: var(--fill-color);\n",
              "      border-top-color: var(--fill-color);\n",
              "      border-right-color: var(--fill-color);\n",
              "    }\n",
              "    40% {\n",
              "      border-color: transparent;\n",
              "      border-right-color: var(--fill-color);\n",
              "      border-top-color: var(--fill-color);\n",
              "    }\n",
              "    60% {\n",
              "      border-color: transparent;\n",
              "      border-right-color: var(--fill-color);\n",
              "    }\n",
              "    80% {\n",
              "      border-color: transparent;\n",
              "      border-right-color: var(--fill-color);\n",
              "      border-bottom-color: var(--fill-color);\n",
              "    }\n",
              "    90% {\n",
              "      border-color: transparent;\n",
              "      border-bottom-color: var(--fill-color);\n",
              "    }\n",
              "  }\n",
              "</style>\n",
              "\n",
              "      <script>\n",
              "        async function quickchart(key) {\n",
              "          const quickchartButtonEl =\n",
              "            document.querySelector('#' + key + ' button');\n",
              "          quickchartButtonEl.disabled = true;  // To prevent multiple clicks.\n",
              "          quickchartButtonEl.classList.add('colab-df-spinner');\n",
              "          try {\n",
              "            const charts = await google.colab.kernel.invokeFunction(\n",
              "                'suggestCharts', [key], {});\n",
              "          } catch (error) {\n",
              "            console.error('Error during call to suggestCharts:', error);\n",
              "          }\n",
              "          quickchartButtonEl.classList.remove('colab-df-spinner');\n",
              "          quickchartButtonEl.classList.add('colab-df-quickchart-complete');\n",
              "        }\n",
              "        (() => {\n",
              "          let quickchartButtonEl =\n",
              "            document.querySelector('#df-adbda4b8-3c81-4e54-9837-b3f19f87db91 button');\n",
              "          quickchartButtonEl.style.display =\n",
              "            google.colab.kernel.accessAllowed ? 'block' : 'none';\n",
              "        })();\n",
              "      </script>\n",
              "    </div>\n",
              "\n",
              "    </div>\n",
              "  </div>\n"
            ],
            "application/vnd.google.colaboratory.intrinsic+json": {
              "type": "dataframe",
              "variable_name": "df"
            }
          },
          "metadata": {},
          "execution_count": 7
        }
      ]
    },
    {
      "cell_type": "code",
      "source": [
        "#13\n",
        "import plotly.express as px\n",
        "import pandas as pd\n",
        "import numpy as np\n",
        "np.random.seed(42)\n",
        "df = pd.DataFrame({\n",
        "    'x': np.random.rand(50),\n",
        "    'y': np.random.rand(50),\n",
        "    'z': np.random.rand(50),\n",
        "    'label': np.random.choice(['A', 'B'], size=50)\n",
        "})\n",
        "fig = px.scatter_3d(df, x='x', y='y', z='z', color='label', title='3D Scatter Plot')\n",
        "\n",
        "fig.show()\n"
      ],
      "metadata": {
        "colab": {
          "base_uri": "https://localhost:8080/",
          "height": 542
        },
        "id": "tx5i_D3MD67p",
        "outputId": "011f2111-5ac5-4249-957b-402839a47037"
      },
      "execution_count": 3,
      "outputs": [
        {
          "output_type": "display_data",
          "data": {
            "text/html": [
              "<html>\n",
              "<head><meta charset=\"utf-8\" /></head>\n",
              "<body>\n",
              "    <div>            <script src=\"https://cdnjs.cloudflare.com/ajax/libs/mathjax/2.7.5/MathJax.js?config=TeX-AMS-MML_SVG\"></script><script type=\"text/javascript\">if (window.MathJax && window.MathJax.Hub && window.MathJax.Hub.Config) {window.MathJax.Hub.Config({SVG: {font: \"STIX-Web\"}});}</script>                <script type=\"text/javascript\">window.PlotlyConfig = {MathJaxConfig: 'local'};</script>\n",
              "        <script charset=\"utf-8\" src=\"https://cdn.plot.ly/plotly-2.35.2.min.js\"></script>                <div id=\"08bb330c-7c25-4663-9c6c-f891b96d1477\" class=\"plotly-graph-div\" style=\"height:525px; width:100%;\"></div>            <script type=\"text/javascript\">                                    window.PLOTLYENV=window.PLOTLYENV || {};                                    if (document.getElementById(\"08bb330c-7c25-4663-9c6c-f891b96d1477\")) {                    Plotly.newPlot(                        \"08bb330c-7c25-4663-9c6c-f891b96d1477\",                        [{\"hovertemplate\":\"label=A\\u003cbr\\u003ex=%{x}\\u003cbr\\u003ey=%{y}\\u003cbr\\u003ez=%{z}\\u003cextra\\u003e\\u003c\\u002fextra\\u003e\",\"legendgroup\":\"A\",\"marker\":{\"color\":\"#636efa\",\"symbol\":\"circle\"},\"mode\":\"markers\",\"name\":\"A\",\"scene\":\"scene\",\"showlegend\":true,\"x\":[0.3745401188473625,0.9507143064099162,0.7319939418114051,0.15599452033620265,0.9699098521619943,0.21233911067827616,0.18182496720710062,0.3042422429595377,0.5247564316322378,0.43194501864211576,0.13949386065204183,0.19967378215835974,0.5142344384136116,0.6075448519014384,0.17052412368729153,0.9488855372533332,0.3046137691733707,0.09767211400638387,0.12203823484477883,0.034388521115218396,0.2587799816000169,0.662522284353982,0.31171107608941095,0.18485445552552704],\"y\":[0.9695846277645586,0.7751328233611146,0.9394989415641891,0.9218742350231168,0.2713490317738959,0.3567533266935893,0.28093450968738076,0.14092422497476265,0.8021969807540397,0.07455064367977082,0.1987156815341724,0.7712703466859457,0.07404465173409036,0.8631034258755935,0.6232981268275579,0.06355835028602363,0.7296061783380641,0.6375574713552131,0.1195942459383017,0.7607850486168974,0.770967179954561,0.49379559636439074,0.5227328293819941,0.10789142699330445],\"z\":[0.03142918568673425,0.6364104112637804,0.3143559810763267,0.24929222914887494,0.16122128725400442,0.808120379564417,0.6334037565104235,0.8036720768991145,0.18657005888603584,0.8925589984899778,0.8960912999234932,0.8180147659224931,0.8607305832563434,0.417411003148779,0.22210781047073025,0.33761517140362796,0.5187906217433661,0.7030189588951778,0.9624472949421112,0.49724850589238545,0.2848404943774676,0.036886947354532795,0.6095643339798968,0.27864646423661144],\"type\":\"scatter3d\"},{\"hovertemplate\":\"label=B\\u003cbr\\u003ex=%{x}\\u003cbr\\u003ey=%{y}\\u003cbr\\u003ez=%{z}\\u003cextra\\u003e\\u003c\\u002fextra\\u003e\",\"legendgroup\":\"B\",\"marker\":{\"color\":\"#EF553B\",\"symbol\":\"circle\"},\"mode\":\"markers\",\"name\":\"B\",\"scene\":\"scene\",\"showlegend\":true,\"x\":[0.5986584841970366,0.15601864044243652,0.05808361216819946,0.8661761457749352,0.6011150117432088,0.7080725777960455,0.020584494295802447,0.8324426408004217,0.18340450985343382,0.2912291401980419,0.6118528947223795,0.29214464853521815,0.3663618432936917,0.45606998421703593,0.7851759613930136,0.5924145688620425,0.046450412719997725,0.06505159298527952,0.9656320330745594,0.8083973481164611,0.6842330265121569,0.4401524937396013,0.4951769101112702,0.9093204020787821,0.5200680211778108,0.5467102793432796],\"y\":[0.8948273504276488,0.5978999788110851,0.0884925020519195,0.1959828624191452,0.045227288910538066,0.32533033076326434,0.388677289689482,0.8287375091519293,0.5426960831582485,0.9868869366005173,0.7722447692966574,0.005522117123602399,0.8154614284548342,0.7068573438476171,0.7290071680409873,0.3584657285442726,0.11586905952512971,0.3308980248526492,0.3109823217156622,0.32518332202674705,0.8872127425763265,0.4722149251619493,0.713244787222995,0.5612771975694962,0.42754101835854963,0.02541912674409519],\"z\":[0.5085706911647028,0.907566473926093,0.41038292303562973,0.7555511385430487,0.22879816549162246,0.07697990982879299,0.289751452913768,0.9296976523425731,0.8714605901877177,0.5393422419156507,0.8074401551640625,0.3180034749718639,0.11005192452767676,0.22793516254194168,0.4271077886262563,0.006952130531190703,0.5107473025775657,0.1198653673336828,0.9429097039125192,0.32320293202075523,0.363629602379294,0.9717820827209607,0.25178229582536416,0.30087830981676966,0.5026790232288615,0.05147875124998935],\"type\":\"scatter3d\"}],                        {\"template\":{\"data\":{\"histogram2dcontour\":[{\"type\":\"histogram2dcontour\",\"colorbar\":{\"outlinewidth\":0,\"ticks\":\"\"},\"colorscale\":[[0.0,\"#0d0887\"],[0.1111111111111111,\"#46039f\"],[0.2222222222222222,\"#7201a8\"],[0.3333333333333333,\"#9c179e\"],[0.4444444444444444,\"#bd3786\"],[0.5555555555555556,\"#d8576b\"],[0.6666666666666666,\"#ed7953\"],[0.7777777777777778,\"#fb9f3a\"],[0.8888888888888888,\"#fdca26\"],[1.0,\"#f0f921\"]]}],\"choropleth\":[{\"type\":\"choropleth\",\"colorbar\":{\"outlinewidth\":0,\"ticks\":\"\"}}],\"histogram2d\":[{\"type\":\"histogram2d\",\"colorbar\":{\"outlinewidth\":0,\"ticks\":\"\"},\"colorscale\":[[0.0,\"#0d0887\"],[0.1111111111111111,\"#46039f\"],[0.2222222222222222,\"#7201a8\"],[0.3333333333333333,\"#9c179e\"],[0.4444444444444444,\"#bd3786\"],[0.5555555555555556,\"#d8576b\"],[0.6666666666666666,\"#ed7953\"],[0.7777777777777778,\"#fb9f3a\"],[0.8888888888888888,\"#fdca26\"],[1.0,\"#f0f921\"]]}],\"heatmap\":[{\"type\":\"heatmap\",\"colorbar\":{\"outlinewidth\":0,\"ticks\":\"\"},\"colorscale\":[[0.0,\"#0d0887\"],[0.1111111111111111,\"#46039f\"],[0.2222222222222222,\"#7201a8\"],[0.3333333333333333,\"#9c179e\"],[0.4444444444444444,\"#bd3786\"],[0.5555555555555556,\"#d8576b\"],[0.6666666666666666,\"#ed7953\"],[0.7777777777777778,\"#fb9f3a\"],[0.8888888888888888,\"#fdca26\"],[1.0,\"#f0f921\"]]}],\"heatmapgl\":[{\"type\":\"heatmapgl\",\"colorbar\":{\"outlinewidth\":0,\"ticks\":\"\"},\"colorscale\":[[0.0,\"#0d0887\"],[0.1111111111111111,\"#46039f\"],[0.2222222222222222,\"#7201a8\"],[0.3333333333333333,\"#9c179e\"],[0.4444444444444444,\"#bd3786\"],[0.5555555555555556,\"#d8576b\"],[0.6666666666666666,\"#ed7953\"],[0.7777777777777778,\"#fb9f3a\"],[0.8888888888888888,\"#fdca26\"],[1.0,\"#f0f921\"]]}],\"contourcarpet\":[{\"type\":\"contourcarpet\",\"colorbar\":{\"outlinewidth\":0,\"ticks\":\"\"}}],\"contour\":[{\"type\":\"contour\",\"colorbar\":{\"outlinewidth\":0,\"ticks\":\"\"},\"colorscale\":[[0.0,\"#0d0887\"],[0.1111111111111111,\"#46039f\"],[0.2222222222222222,\"#7201a8\"],[0.3333333333333333,\"#9c179e\"],[0.4444444444444444,\"#bd3786\"],[0.5555555555555556,\"#d8576b\"],[0.6666666666666666,\"#ed7953\"],[0.7777777777777778,\"#fb9f3a\"],[0.8888888888888888,\"#fdca26\"],[1.0,\"#f0f921\"]]}],\"surface\":[{\"type\":\"surface\",\"colorbar\":{\"outlinewidth\":0,\"ticks\":\"\"},\"colorscale\":[[0.0,\"#0d0887\"],[0.1111111111111111,\"#46039f\"],[0.2222222222222222,\"#7201a8\"],[0.3333333333333333,\"#9c179e\"],[0.4444444444444444,\"#bd3786\"],[0.5555555555555556,\"#d8576b\"],[0.6666666666666666,\"#ed7953\"],[0.7777777777777778,\"#fb9f3a\"],[0.8888888888888888,\"#fdca26\"],[1.0,\"#f0f921\"]]}],\"mesh3d\":[{\"type\":\"mesh3d\",\"colorbar\":{\"outlinewidth\":0,\"ticks\":\"\"}}],\"scatter\":[{\"fillpattern\":{\"fillmode\":\"overlay\",\"size\":10,\"solidity\":0.2},\"type\":\"scatter\"}],\"parcoords\":[{\"type\":\"parcoords\",\"line\":{\"colorbar\":{\"outlinewidth\":0,\"ticks\":\"\"}}}],\"scatterpolargl\":[{\"type\":\"scatterpolargl\",\"marker\":{\"colorbar\":{\"outlinewidth\":0,\"ticks\":\"\"}}}],\"bar\":[{\"error_x\":{\"color\":\"#2a3f5f\"},\"error_y\":{\"color\":\"#2a3f5f\"},\"marker\":{\"line\":{\"color\":\"#E5ECF6\",\"width\":0.5},\"pattern\":{\"fillmode\":\"overlay\",\"size\":10,\"solidity\":0.2}},\"type\":\"bar\"}],\"scattergeo\":[{\"type\":\"scattergeo\",\"marker\":{\"colorbar\":{\"outlinewidth\":0,\"ticks\":\"\"}}}],\"scatterpolar\":[{\"type\":\"scatterpolar\",\"marker\":{\"colorbar\":{\"outlinewidth\":0,\"ticks\":\"\"}}}],\"histogram\":[{\"marker\":{\"pattern\":{\"fillmode\":\"overlay\",\"size\":10,\"solidity\":0.2}},\"type\":\"histogram\"}],\"scattergl\":[{\"type\":\"scattergl\",\"marker\":{\"colorbar\":{\"outlinewidth\":0,\"ticks\":\"\"}}}],\"scatter3d\":[{\"type\":\"scatter3d\",\"line\":{\"colorbar\":{\"outlinewidth\":0,\"ticks\":\"\"}},\"marker\":{\"colorbar\":{\"outlinewidth\":0,\"ticks\":\"\"}}}],\"scattermapbox\":[{\"type\":\"scattermapbox\",\"marker\":{\"colorbar\":{\"outlinewidth\":0,\"ticks\":\"\"}}}],\"scatterternary\":[{\"type\":\"scatterternary\",\"marker\":{\"colorbar\":{\"outlinewidth\":0,\"ticks\":\"\"}}}],\"scattercarpet\":[{\"type\":\"scattercarpet\",\"marker\":{\"colorbar\":{\"outlinewidth\":0,\"ticks\":\"\"}}}],\"carpet\":[{\"aaxis\":{\"endlinecolor\":\"#2a3f5f\",\"gridcolor\":\"white\",\"linecolor\":\"white\",\"minorgridcolor\":\"white\",\"startlinecolor\":\"#2a3f5f\"},\"baxis\":{\"endlinecolor\":\"#2a3f5f\",\"gridcolor\":\"white\",\"linecolor\":\"white\",\"minorgridcolor\":\"white\",\"startlinecolor\":\"#2a3f5f\"},\"type\":\"carpet\"}],\"table\":[{\"cells\":{\"fill\":{\"color\":\"#EBF0F8\"},\"line\":{\"color\":\"white\"}},\"header\":{\"fill\":{\"color\":\"#C8D4E3\"},\"line\":{\"color\":\"white\"}},\"type\":\"table\"}],\"barpolar\":[{\"marker\":{\"line\":{\"color\":\"#E5ECF6\",\"width\":0.5},\"pattern\":{\"fillmode\":\"overlay\",\"size\":10,\"solidity\":0.2}},\"type\":\"barpolar\"}],\"pie\":[{\"automargin\":true,\"type\":\"pie\"}]},\"layout\":{\"autotypenumbers\":\"strict\",\"colorway\":[\"#636efa\",\"#EF553B\",\"#00cc96\",\"#ab63fa\",\"#FFA15A\",\"#19d3f3\",\"#FF6692\",\"#B6E880\",\"#FF97FF\",\"#FECB52\"],\"font\":{\"color\":\"#2a3f5f\"},\"hovermode\":\"closest\",\"hoverlabel\":{\"align\":\"left\"},\"paper_bgcolor\":\"white\",\"plot_bgcolor\":\"#E5ECF6\",\"polar\":{\"bgcolor\":\"#E5ECF6\",\"angularaxis\":{\"gridcolor\":\"white\",\"linecolor\":\"white\",\"ticks\":\"\"},\"radialaxis\":{\"gridcolor\":\"white\",\"linecolor\":\"white\",\"ticks\":\"\"}},\"ternary\":{\"bgcolor\":\"#E5ECF6\",\"aaxis\":{\"gridcolor\":\"white\",\"linecolor\":\"white\",\"ticks\":\"\"},\"baxis\":{\"gridcolor\":\"white\",\"linecolor\":\"white\",\"ticks\":\"\"},\"caxis\":{\"gridcolor\":\"white\",\"linecolor\":\"white\",\"ticks\":\"\"}},\"coloraxis\":{\"colorbar\":{\"outlinewidth\":0,\"ticks\":\"\"}},\"colorscale\":{\"sequential\":[[0.0,\"#0d0887\"],[0.1111111111111111,\"#46039f\"],[0.2222222222222222,\"#7201a8\"],[0.3333333333333333,\"#9c179e\"],[0.4444444444444444,\"#bd3786\"],[0.5555555555555556,\"#d8576b\"],[0.6666666666666666,\"#ed7953\"],[0.7777777777777778,\"#fb9f3a\"],[0.8888888888888888,\"#fdca26\"],[1.0,\"#f0f921\"]],\"sequentialminus\":[[0.0,\"#0d0887\"],[0.1111111111111111,\"#46039f\"],[0.2222222222222222,\"#7201a8\"],[0.3333333333333333,\"#9c179e\"],[0.4444444444444444,\"#bd3786\"],[0.5555555555555556,\"#d8576b\"],[0.6666666666666666,\"#ed7953\"],[0.7777777777777778,\"#fb9f3a\"],[0.8888888888888888,\"#fdca26\"],[1.0,\"#f0f921\"]],\"diverging\":[[0,\"#8e0152\"],[0.1,\"#c51b7d\"],[0.2,\"#de77ae\"],[0.3,\"#f1b6da\"],[0.4,\"#fde0ef\"],[0.5,\"#f7f7f7\"],[0.6,\"#e6f5d0\"],[0.7,\"#b8e186\"],[0.8,\"#7fbc41\"],[0.9,\"#4d9221\"],[1,\"#276419\"]]},\"xaxis\":{\"gridcolor\":\"white\",\"linecolor\":\"white\",\"ticks\":\"\",\"title\":{\"standoff\":15},\"zerolinecolor\":\"white\",\"automargin\":true,\"zerolinewidth\":2},\"yaxis\":{\"gridcolor\":\"white\",\"linecolor\":\"white\",\"ticks\":\"\",\"title\":{\"standoff\":15},\"zerolinecolor\":\"white\",\"automargin\":true,\"zerolinewidth\":2},\"scene\":{\"xaxis\":{\"backgroundcolor\":\"#E5ECF6\",\"gridcolor\":\"white\",\"linecolor\":\"white\",\"showbackground\":true,\"ticks\":\"\",\"zerolinecolor\":\"white\",\"gridwidth\":2},\"yaxis\":{\"backgroundcolor\":\"#E5ECF6\",\"gridcolor\":\"white\",\"linecolor\":\"white\",\"showbackground\":true,\"ticks\":\"\",\"zerolinecolor\":\"white\",\"gridwidth\":2},\"zaxis\":{\"backgroundcolor\":\"#E5ECF6\",\"gridcolor\":\"white\",\"linecolor\":\"white\",\"showbackground\":true,\"ticks\":\"\",\"zerolinecolor\":\"white\",\"gridwidth\":2}},\"shapedefaults\":{\"line\":{\"color\":\"#2a3f5f\"}},\"annotationdefaults\":{\"arrowcolor\":\"#2a3f5f\",\"arrowhead\":0,\"arrowwidth\":1},\"geo\":{\"bgcolor\":\"white\",\"landcolor\":\"#E5ECF6\",\"subunitcolor\":\"white\",\"showland\":true,\"showlakes\":true,\"lakecolor\":\"white\"},\"title\":{\"x\":0.05},\"mapbox\":{\"style\":\"light\"}}},\"scene\":{\"domain\":{\"x\":[0.0,1.0],\"y\":[0.0,1.0]},\"xaxis\":{\"title\":{\"text\":\"x\"}},\"yaxis\":{\"title\":{\"text\":\"y\"}},\"zaxis\":{\"title\":{\"text\":\"z\"}}},\"legend\":{\"title\":{\"text\":\"label\"},\"tracegroupgap\":0},\"title\":{\"text\":\"3D Scatter Plot\"}},                        {\"responsive\": true}                    ).then(function(){\n",
              "                            \n",
              "var gd = document.getElementById('08bb330c-7c25-4663-9c6c-f891b96d1477');\n",
              "var x = new MutationObserver(function (mutations, observer) {{\n",
              "        var display = window.getComputedStyle(gd).display;\n",
              "        if (!display || display === 'none') {{\n",
              "            console.log([gd, 'removed!']);\n",
              "            Plotly.purge(gd);\n",
              "            observer.disconnect();\n",
              "        }}\n",
              "}});\n",
              "\n",
              "// Listen for the removal of the full notebook cells\n",
              "var notebookContainer = gd.closest('#notebook-container');\n",
              "if (notebookContainer) {{\n",
              "    x.observe(notebookContainer, {childList: true});\n",
              "}}\n",
              "\n",
              "// Listen for the clearing of the current output cell\n",
              "var outputEl = gd.closest('.output');\n",
              "if (outputEl) {{\n",
              "    x.observe(outputEl, {childList: true});\n",
              "}}\n",
              "\n",
              "                        })                };                            </script>        </div>\n",
              "</body>\n",
              "</html>"
            ]
          },
          "metadata": {}
        }
      ]
    },
    {
      "cell_type": "markdown",
      "source": [
        "Theory\n",
        "\n",
        "1. What is NumPy, and why is it widely used in Python?\n",
        "NumPy (Numerical Python) is a core library for scientific computing that provides support for large, multi-dimensional arrays and matrices, along with a collection of mathematical functions to operate on them efficiently. It's fast due to its C-based implementation and is essential for data analysis, machine learning, and numerical simulations.\n",
        "\n",
        "2. How does broadcasting work in NumPy?\n",
        "Broadcasting allows NumPy to perform arithmetic operations on arrays of different shapes by automatically expanding their shapes to be compatible, without copying data.\n",
        "\n",
        "3. What are the differences between NumPy arrays and Python lists?\n",
        "\n",
        "    NumPy arrays are more memory-efficient and faster.\n",
        "\n",
        "    They support element-wise operations and broadcasting.\n",
        "\n",
        "    Python lists are more flexible with data types but are slower and less suitable for numerical computations.\n",
        "\n",
        "4. What does the term “vectorized operation” mean in NumPy?\n",
        "A vectorized operation processes entire arrays without using explicit loops, resulting in faster and cleaner code (e.g., a + b instead of for i in range(len(a)): a[i] + b[i]).\n",
        "\n",
        "5. How does NumPy handle multidimensional arrays?\n",
        "NumPy uses the ndarray object to handle N-dimensional arrays efficiently, with built-in functions for reshaping, slicing, and mathematical operations.\n",
        "\n",
        "6. Why is NumPy’s array slicing faster than Python’s list slicing?\n",
        "NumPy slicing returns views (not copies) of data, uses contiguous memory blocks, and leverages C-level optimizations.\n",
        "\n",
        "7. What are some advanced features of NumPy?\n",
        "\n",
        "    Masked arrays\n",
        "\n",
        "    Structured arrays\n",
        "\n",
        "    Broadcasting rules\n",
        "\n",
        "    Fourier transforms and linear algebra functions\n",
        "\n",
        "    Random number generation\n",
        "\n",
        "🐼 Pandas\n",
        "\n",
        "8. What is a Pandas DataFrame?\n",
        "A DataFrame is a 2D labeled data structure with columns of potentially different types, similar to a table in a database or an Excel spreadsheet.\n",
        "\n",
        "9. Explain the use of the groupby() method in Pandas.\n",
        "groupby() is used to split data into groups based on some criteria, apply a function (like sum(), mean()), and combine results—ideal for aggregation and transformations.\n",
        "\n",
        "10. What is the significance of hierarchical indexing in Pandas?\n",
        "It allows multiple index levels on rows and columns, making it easier to work with complex datasets, such as time-series or grouped data.\n",
        "\n",
        "11. What is the purpose of the describe() function in Pandas?\n",
        "describe() provides summary statistics (mean, std, min, max, quartiles) for numeric columns, giving a quick overview of the dataset.\n",
        "\n",
        "12. Why is handling missing data important in Pandas?\n",
        "Missing data can skew analysis or lead to errors. Pandas provides tools like isnull(), fillna(), and dropna() to handle such cases effectively.\n",
        "\n",
        "13. Explain the difference between apply() and map() in Pandas.\n",
        "\n",
        "    map() is used on Series for element-wise transformations.\n",
        "\n",
        "    apply() can be used on both Series and DataFrames for row/column-wise operations, supporting more complex functions.\n",
        "\n",
        "14. How does Pandas simplify time series analysis?\n",
        "Pandas includes built-in support for datetime indexing, resampling, rolling window calculations, and frequency conversion, making time series analysis easier.\n",
        "\n",
        "15. What is the role of a pivot table in Pandas?\n",
        "Pivot tables summarize data by transforming rows into columns (or vice versa), often used for aggregating and analyzing multidimensional data.\n",
        "📈 Seaborn / Plotly / Visualization\n",
        "\n",
        "16. Why is Seaborn preferred for statistical visualizations?\n",
        "Seaborn is built on Matplotlib and offers a high-level interface for drawing attractive and informative statistical graphics like violin plots, box plots, and heatmaps with minimal code.\n",
        "\n",
        "17. What is a heatmap, and when should it be used?\n",
        "A heatmap visualizes data in a matrix format using color to indicate magnitude. It's useful for correlation matrices, confusion matrices, and grid-based data.\n",
        "\n",
        "18. What is the role of Seaborn’s pairplot() function?\n",
        "pairplot() visualizes pairwise relationships in a dataset, showing scatter plots, histograms, and KDEs to help understand distributions and correlations.\n",
        "\n",
        "19. What are some common use cases for Seaborn?\n",
        "\n",
        "    Exploring relationships (scatter plots, pairplots)\n",
        "\n",
        "    Comparing categories (box plots, violin plots)\n",
        "\n",
        "    Visualizing distributions (histograms, KDEs)\n",
        "\n",
        "    Heatmaps for correlation analysis\n",
        "\n",
        "20. What are the benefits of using Plotly for data visualization?\n",
        "Plotly supports interactive and web-ready plots with zooming, tooltips, and 3D charts. It’s great for dashboards and storytelling with data.\n",
        "\n",
        "21. How does Matplotlib differ from Plotly?\n",
        "\n",
        "    Matplotlib: Static, customizable, widely used for publication-quality plots.\n",
        "\n",
        "    Plotly: Interactive, web-based, and suitable for dashboards and exploratory analysis.\n",
        "\n",
        "22. What is the role of Bokeh in data visualization?\n",
        "Bokeh is a Python library for creating interactive and real-time web visualizations, ideal for dashboards and streaming data apps.\n"
      ],
      "metadata": {
        "id": "rfYK4Y5iFd7V"
      }
    }
  ]
}